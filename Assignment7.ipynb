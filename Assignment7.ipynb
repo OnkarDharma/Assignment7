{
  "nbformat": 4,
  "nbformat_minor": 0,
  "metadata": {
    "colab": {
      "name": "Assignment7.ipynb",
      "version": "0.3.2",
      "provenance": [],
      "collapsed_sections": []
    },
    "kernelspec": {
      "name": "python3",
      "display_name": "Python 3"
    },
    "accelerator": "GPU"
  },
  "cells": [
    {
      "cell_type": "code",
      "metadata": {
        "id": "8edSiHPi2N5l",
        "colab_type": "code",
        "outputId": "d3ccf75e-6059-484a-8e81-d798b354e591",
        "colab": {
          "base_uri": "https://localhost:8080/",
          "height": 34
        }
      },
      "source": [
        "# https://keras.io/\n",
        "!pip install -q keras\n",
        "import keras\n",
        "\n",
        "import keras\n",
        "from keras.datasets import cifar10\n",
        "from keras.models import Model, Sequential\n",
        "from keras.layers import Dropout,AveragePooling2D, merge, Activation,SeparableConv2D\n",
        "from keras.layers import Conv2D, MaxPooling2D, BatchNormalization\n",
        "from keras.layers import Concatenate\n",
        "from keras.optimizers import Adam\n",
        "from keras.layers.advanced_activations import LeakyReLU\n",
        "from keras.layers import Reshape, Activation Input, MaxPooling2D, BatchNormalization, Flatten, Dense, Lambda\n",
        "from keras.layers.merge import concatenate\n",
        "\n",
        "# this part will prevent tensorflow to allocate all the avaliable GPU Memory\n",
        "# backend\n",
        "import tensorflow as tf\n",
        "from keras import backend as k\n",
        "\n",
        "# Don't pre-allocate memory; allocate as-needed\n",
        "config = tf.ConfigProto()\n",
        "config.gpu_options.allow_growth = True\n",
        "\n",
        "# Create a session with the above options specified.\n",
        "k.tensorflow_backend.set_session(tf.Session(config=config))\n",
        "\n",
        "# Hyperparameters\n",
        "batch_size = 128\n",
        "num_classes = 10\n",
        "epochs = 50\n",
        "l = 10\n",
        "num_filter = 20"
      ],
      "execution_count": 0,
      "outputs": [
        {
          "output_type": "stream",
          "text": [
            "Using TensorFlow backend.\n"
          ],
          "name": "stderr"
        }
      ]
    },
    {
      "cell_type": "code",
      "metadata": {
        "id": "-hkvQwOH2cCO",
        "colab_type": "code",
        "outputId": "4219c6ba-326e-425c-f94a-3f3022be3d51",
        "colab": {
          "base_uri": "https://localhost:8080/",
          "height": 51
        }
      },
      "source": [
        "# Load CIFAR10 Data\n",
        "(x_train, y_train), (x_test, y_test) = cifar10.load_data()\n",
        "img_height, img_width, channel = x_train.shape[1],x_train.shape[2],x_train.shape[3]\n",
        "\n",
        "# convert to one hot encoing \n",
        "y_train = keras.utils.to_categorical(y_train, num_classes)\n",
        "y_test = keras.utils.to_categorical(y_test, num_classes)"
      ],
      "execution_count": 0,
      "outputs": [
        {
          "output_type": "stream",
          "text": [
            "Downloading data from https://www.cs.toronto.edu/~kriz/cifar-10-python.tar.gz\n",
            "170500096/170498071 [==============================] - 20s 0us/step\n"
          ],
          "name": "stdout"
        }
      ]
    },
    {
      "cell_type": "code",
      "metadata": {
        "id": "ztoDypc63gEs",
        "colab_type": "code",
        "colab": {}
      },
      "source": [
        "def space_to_depth_x2(x):\n",
        "    return tf.space_to_depth(x, block_size=8)"
      ],
      "execution_count": 0,
      "outputs": []
    },
    {
      "cell_type": "code",
      "metadata": {
        "id": "SNnGm8Tv2fR1",
        "colab_type": "code",
        "colab": {}
      },
      "source": [
        "input = Input(shape=(img_height, img_width, channel,))\n",
        "\n",
        "# Layer 1\n",
        "x = SeparableConv2D(32, (5,5),border_mode='same', name='Sep_conv_1')(input)\n",
        "x = Activation('relu'))(x)\n",
        "x = BatchNormalization(name='norm_1')(x)\n",
        "\n",
        "layer1 = x\n",
        "\n",
        "# Layer 2\n",
        "x = Conv2D(64, (5,5), name='Conv_1',border_mode='same')(x)\n",
        "x = Activation('relu'))(x)\n",
        "x = BatchNormalization(name='norm_2')(x)\n",
        "\n",
        "layer2 = x\n",
        "\n",
        "# Layer 3\n",
        "x = Conv2D(128, (5,5), name='Conv_2', border_mode='same')(x)\n",
        "x = Activation('relu'))(x)\n",
        "x = BatchNormalization(name='norm_3')(x)\n",
        "\n",
        "layer3 = x\n",
        "\n",
        "skip1 = concatenate([layer1, layer3])\n",
        "\n",
        "# Layer 4\n",
        "x = SeparableConv2D(256, (5,5), name='Sep_conv_2',border_mode='same')(skip1)\n",
        "x = Activation('relu'))(x)\n",
        "x = BatchNormalization(name='norm_4')(x)\n",
        "\n",
        "layer4 = x\n",
        "\n",
        "# Layer 5\n",
        "skip2 = concatenate([layer1, layer4])\n",
        "\n",
        "x = MaxPooling2D(pool_size=(2, 2))(skip2)\n",
        "\n",
        "\n",
        "# Layer 6\n",
        "x = SeparableConv2D(32, (3,3), border_mode='same', name='Sep_conv_3', use_bias=False)(x)\n",
        "x = Activation('relu'))(x)\n",
        "x = BatchNormalization(name='norm_6')(x)\n",
        "\n",
        "# Layer 7\n",
        "x = Conv2D(64, (5,5), name='Conv_3', border_mode='same')(x)\n",
        "x = Activation('relu'))(x)\n",
        "x = BatchNormalization(name='norm_7')(x)\n",
        "\n",
        "# Layer 8\n",
        "x = SeparableConv2D(128, (3,3), border_mode='same', name='Sep_conv_4', use_bias=False)(x)\n",
        "x = Activation('relu'))(x)\n",
        "x = BatchNormalization(name='norm_8')(x)\n",
        "\n",
        "\n",
        "# Layer 9\n",
        "x = SeparableConv2D(256, (5,5), border_mode='same', name='Sep_conv_5', use_bias=False)(x)\n",
        "x = Activation('relu'))(x)\n",
        "x = BatchNormalization(name='norm_9')(x)\n",
        "\n",
        "# Layer 10\n",
        "skip2 = concatenate([layer1, layer4])\n",
        "\n",
        "x = MaxPooling2D(pool_size=(2, 2))(skip2)\n",
        "\n",
        "# Layer 11\n",
        "x = Conv2D(32, (5,5), name='Conv_4',border_mode='same')(skip1)\n",
        "x = Activation('relu'))(x)\n",
        "x = BatchNormalization(name='norm_11')(x)\n",
        "\n",
        "# Layer 12\n",
        "x = SeparableConv2D(64, (5,5), border_mode='same', name='Sep_conv_5', use_bias=False)(x)\n",
        "x = Activation('relu'))(x)\n",
        "x = BatchNormalization(name='norm_12')(x)\n",
        "\n",
        "# Layer 13\n",
        "x = Conv2D(128, (3,3), name='Conv_5',border_mode='same',)(x)\n",
        "x = Activation('relu'))(x)\n",
        "x = BatchNormalization(name='norm_13')(x)\n",
        "\n",
        "# Layer 14\n",
        "x = SeparableConv2D(64, (5,5), border_mode='same', name='Sep_conv_5', use_bias=False)(x)\n",
        "x = Activation('relu'))(x)\n",
        "x = BatchNormalization(name='norm_14')(x)\n",
        "\n",
        "x = concatenate([block_4, block_1])\n",
        "\n",
        "# Layer 23\n",
        "x = Flatten()(x)\n",
        "\n",
        "output = Activation('softmax')(x)\n",
        "\n"
      ],
      "execution_count": 0,
      "outputs": []
    },
    {
      "cell_type": "code",
      "metadata": {
        "id": "Jeh0VAxy26NV",
        "colab_type": "code",
        "outputId": "59c56d46-078f-4262-9539-dd17b054ca36",
        "colab": {
          "base_uri": "https://localhost:8080/",
          "height": 2499
        }
      },
      "source": [
        "model = Model(inputs=[input], outputs=[output])\n",
        "model.summary()"
      ],
      "execution_count": 0,
      "outputs": [
        {
          "output_type": "stream",
          "text": [
            "__________________________________________________________________________________________________\n",
            "Layer (type)                    Output Shape         Param #     Connected to                     \n",
            "==================================================================================================\n",
            "input_8 (InputLayer)            (None, 32, 32, 3)    0                                            \n",
            "__________________________________________________________________________________________________\n",
            "conv_1 (Conv2D)                 (None, 32, 32, 32)   864         input_8[0][0]                    \n",
            "__________________________________________________________________________________________________\n",
            "norm_1 (BatchNormalization)     (None, 32, 32, 32)   128         conv_1[0][0]                     \n",
            "__________________________________________________________________________________________________\n",
            "leaky_re_lu_141 (LeakyReLU)     (None, 32, 32, 32)   0           norm_1[0][0]                     \n",
            "__________________________________________________________________________________________________\n",
            "conv_2 (Conv2D)                 (None, 32, 32, 64)   18432       leaky_re_lu_141[0][0]            \n",
            "__________________________________________________________________________________________________\n",
            "norm_2 (BatchNormalization)     (None, 32, 32, 64)   256         conv_2[0][0]                     \n",
            "__________________________________________________________________________________________________\n",
            "leaky_re_lu_142 (LeakyReLU)     (None, 32, 32, 64)   0           norm_2[0][0]                     \n",
            "__________________________________________________________________________________________________\n",
            "conv_3 (Conv2D)                 (None, 32, 32, 128)  73728       leaky_re_lu_142[0][0]            \n",
            "__________________________________________________________________________________________________\n",
            "norm_3 (BatchNormalization)     (None, 32, 32, 128)  512         conv_3[0][0]                     \n",
            "__________________________________________________________________________________________________\n",
            "leaky_re_lu_143 (LeakyReLU)     (None, 32, 32, 128)  0           norm_3[0][0]                     \n",
            "__________________________________________________________________________________________________\n",
            "conv_4 (Conv2D)                 (None, 32, 32, 256)  294912      leaky_re_lu_143[0][0]            \n",
            "__________________________________________________________________________________________________\n",
            "norm_4 (BatchNormalization)     (None, 32, 32, 256)  1024        conv_4[0][0]                     \n",
            "__________________________________________________________________________________________________\n",
            "leaky_re_lu_144 (LeakyReLU)     (None, 32, 32, 256)  0           norm_4[0][0]                     \n",
            "__________________________________________________________________________________________________\n",
            "conv_5 (Conv2D)                 (None, 32, 32, 512)  1179648     leaky_re_lu_144[0][0]            \n",
            "__________________________________________________________________________________________________\n",
            "norm_5 (BatchNormalization)     (None, 32, 32, 512)  2048        conv_5[0][0]                     \n",
            "__________________________________________________________________________________________________\n",
            "leaky_re_lu_145 (LeakyReLU)     (None, 32, 32, 512)  0           norm_5[0][0]                     \n",
            "__________________________________________________________________________________________________\n",
            "max_pooling2d_29 (MaxPooling2D) (None, 16, 16, 512)  0           leaky_re_lu_145[0][0]            \n",
            "__________________________________________________________________________________________________\n",
            "conv_6 (Conv2D)                 (None, 16, 16, 32)   147456      max_pooling2d_29[0][0]           \n",
            "__________________________________________________________________________________________________\n",
            "norm_6 (BatchNormalization)     (None, 16, 16, 32)   128         conv_6[0][0]                     \n",
            "__________________________________________________________________________________________________\n",
            "leaky_re_lu_146 (LeakyReLU)     (None, 16, 16, 32)   0           norm_6[0][0]                     \n",
            "__________________________________________________________________________________________________\n",
            "conv_7 (Conv2D)                 (None, 16, 16, 64)   18432       leaky_re_lu_146[0][0]            \n",
            "__________________________________________________________________________________________________\n",
            "norm_7 (BatchNormalization)     (None, 16, 16, 64)   256         conv_7[0][0]                     \n",
            "__________________________________________________________________________________________________\n",
            "leaky_re_lu_147 (LeakyReLU)     (None, 16, 16, 64)   0           norm_7[0][0]                     \n",
            "__________________________________________________________________________________________________\n",
            "conv_8 (Conv2D)                 (None, 16, 16, 128)  73728       leaky_re_lu_147[0][0]            \n",
            "__________________________________________________________________________________________________\n",
            "norm_8 (BatchNormalization)     (None, 16, 16, 128)  512         conv_8[0][0]                     \n",
            "__________________________________________________________________________________________________\n",
            "leaky_re_lu_148 (LeakyReLU)     (None, 16, 16, 128)  0           norm_8[0][0]                     \n",
            "__________________________________________________________________________________________________\n",
            "conv_9 (Conv2D)                 (None, 16, 16, 256)  294912      leaky_re_lu_148[0][0]            \n",
            "__________________________________________________________________________________________________\n",
            "norm_9 (BatchNormalization)     (None, 16, 16, 256)  1024        conv_9[0][0]                     \n",
            "__________________________________________________________________________________________________\n",
            "leaky_re_lu_149 (LeakyReLU)     (None, 16, 16, 256)  0           norm_9[0][0]                     \n",
            "__________________________________________________________________________________________________\n",
            "conv_10 (Conv2D)                (None, 16, 16, 512)  1179648     leaky_re_lu_149[0][0]            \n",
            "__________________________________________________________________________________________________\n",
            "norm_10 (BatchNormalization)    (None, 16, 16, 512)  2048        conv_10[0][0]                    \n",
            "__________________________________________________________________________________________________\n",
            "leaky_re_lu_150 (LeakyReLU)     (None, 16, 16, 512)  0           norm_10[0][0]                    \n",
            "__________________________________________________________________________________________________\n",
            "max_pooling2d_30 (MaxPooling2D) (None, 8, 8, 512)    0           leaky_re_lu_150[0][0]            \n",
            "__________________________________________________________________________________________________\n",
            "conv_11 (Conv2D)                (None, 8, 8, 32)     147456      max_pooling2d_30[0][0]           \n",
            "__________________________________________________________________________________________________\n",
            "norm_11 (BatchNormalization)    (None, 8, 8, 32)     128         conv_11[0][0]                    \n",
            "__________________________________________________________________________________________________\n",
            "leaky_re_lu_151 (LeakyReLU)     (None, 8, 8, 32)     0           norm_11[0][0]                    \n",
            "__________________________________________________________________________________________________\n",
            "conv_12 (Conv2D)                (None, 8, 8, 64)     18432       leaky_re_lu_151[0][0]            \n",
            "__________________________________________________________________________________________________\n",
            "norm_12 (BatchNormalization)    (None, 8, 8, 64)     256         conv_12[0][0]                    \n",
            "__________________________________________________________________________________________________\n",
            "leaky_re_lu_152 (LeakyReLU)     (None, 8, 8, 64)     0           norm_12[0][0]                    \n",
            "__________________________________________________________________________________________________\n",
            "conv_13 (Conv2D)                (None, 8, 8, 128)    73728       leaky_re_lu_152[0][0]            \n",
            "__________________________________________________________________________________________________\n",
            "norm_13 (BatchNormalization)    (None, 8, 8, 128)    512         conv_13[0][0]                    \n",
            "__________________________________________________________________________________________________\n",
            "leaky_re_lu_153 (LeakyReLU)     (None, 8, 8, 128)    0           norm_13[0][0]                    \n",
            "__________________________________________________________________________________________________\n",
            "conv_14 (Conv2D)                (None, 8, 8, 256)    294912      leaky_re_lu_153[0][0]            \n",
            "__________________________________________________________________________________________________\n",
            "norm_14 (BatchNormalization)    (None, 8, 8, 256)    1024        conv_14[0][0]                    \n",
            "__________________________________________________________________________________________________\n",
            "leaky_re_lu_154 (LeakyReLU)     (None, 8, 8, 256)    0           norm_14[0][0]                    \n",
            "__________________________________________________________________________________________________\n",
            "conv_15 (Conv2D)                (None, 8, 8, 512)    1179648     leaky_re_lu_154[0][0]            \n",
            "__________________________________________________________________________________________________\n",
            "norm_15 (BatchNormalization)    (None, 8, 8, 512)    2048        conv_15[0][0]                    \n",
            "__________________________________________________________________________________________________\n",
            "leaky_re_lu_155 (LeakyReLU)     (None, 8, 8, 512)    0           norm_15[0][0]                    \n",
            "__________________________________________________________________________________________________\n",
            "max_pooling2d_31 (MaxPooling2D) (None, 4, 4, 512)    0           leaky_re_lu_155[0][0]            \n",
            "__________________________________________________________________________________________________\n",
            "conv_16 (Conv2D)                (None, 4, 4, 32)     147456      max_pooling2d_31[0][0]           \n",
            "__________________________________________________________________________________________________\n",
            "norm_16 (BatchNormalization)    (None, 4, 4, 32)     128         conv_16[0][0]                    \n",
            "__________________________________________________________________________________________________\n",
            "leaky_re_lu_156 (LeakyReLU)     (None, 4, 4, 32)     0           norm_16[0][0]                    \n",
            "__________________________________________________________________________________________________\n",
            "conv_17 (Conv2D)                (None, 4, 4, 64)     18432       leaky_re_lu_156[0][0]            \n",
            "__________________________________________________________________________________________________\n",
            "norm_17 (BatchNormalization)    (None, 4, 4, 64)     256         conv_17[0][0]                    \n",
            "__________________________________________________________________________________________________\n",
            "leaky_re_lu_157 (LeakyReLU)     (None, 4, 4, 64)     0           norm_17[0][0]                    \n",
            "__________________________________________________________________________________________________\n",
            "conv_18 (Conv2D)                (None, 4, 4, 128)    73728       leaky_re_lu_157[0][0]            \n",
            "__________________________________________________________________________________________________\n",
            "norm_18 (BatchNormalization)    (None, 4, 4, 128)    512         conv_18[0][0]                    \n",
            "__________________________________________________________________________________________________\n",
            "leaky_re_lu_158 (LeakyReLU)     (None, 4, 4, 128)    0           norm_18[0][0]                    \n",
            "__________________________________________________________________________________________________\n",
            "conv_19 (Conv2D)                (None, 4, 4, 256)    294912      leaky_re_lu_158[0][0]            \n",
            "__________________________________________________________________________________________________\n",
            "norm_19 (BatchNormalization)    (None, 4, 4, 256)    1024        conv_19[0][0]                    \n",
            "__________________________________________________________________________________________________\n",
            "leaky_re_lu_159 (LeakyReLU)     (None, 4, 4, 256)    0           norm_19[0][0]                    \n",
            "__________________________________________________________________________________________________\n",
            "conv_20 (Conv2D)                (None, 4, 4, 512)    1179648     leaky_re_lu_159[0][0]            \n",
            "__________________________________________________________________________________________________\n",
            "norm_20 (BatchNormalization)    (None, 4, 4, 512)    2048        conv_20[0][0]                    \n",
            "__________________________________________________________________________________________________\n",
            "leaky_re_lu_160 (LeakyReLU)     (None, 4, 4, 512)    0           norm_20[0][0]                    \n",
            "__________________________________________________________________________________________________\n",
            "max_pooling2d_32 (MaxPooling2D) (None, 2, 2, 512)    0           leaky_re_lu_160[0][0]            \n",
            "__________________________________________________________________________________________________\n",
            "lambda_5 (Lambda)               (None, 2, 2, 32768)  0           max_pooling2d_29[0][0]           \n",
            "__________________________________________________________________________________________________\n",
            "concatenate_7 (Concatenate)     (None, 2, 2, 33280)  0           max_pooling2d_32[0][0]           \n",
            "                                                                 lambda_5[0][0]                   \n",
            "__________________________________________________________________________________________________\n",
            "flatten_1 (Flatten)             (None, 133120)       0           concatenate_7[0][0]              \n",
            "__________________________________________________________________________________________________\n",
            "dense_1 (Dense)                 (None, 10)           1331210     flatten_1[0][0]                  \n",
            "==================================================================================================\n",
            "Total params: 8,057,194\n",
            "Trainable params: 8,049,258\n",
            "Non-trainable params: 7,936\n",
            "__________________________________________________________________________________________________\n"
          ],
          "name": "stdout"
        }
      ]
    },
    {
      "cell_type": "code",
      "metadata": {
        "id": "apCwOjvZ4Kts",
        "colab_type": "code",
        "colab": {}
      },
      "source": [
        "# determine Loss function and Optimizer\n",
        "model.compile(loss='categorical_crossentropy',\n",
        "              optimizer=Adam(),\n",
        "              metrics=['accuracy'])"
      ],
      "execution_count": 0,
      "outputs": []
    },
    {
      "cell_type": "code",
      "metadata": {
        "id": "tLaFy2AO4TLl",
        "colab_type": "code",
        "outputId": "9429ffed-5d9f-4efb-d532-2df3dd34d2e0",
        "colab": {
          "base_uri": "https://localhost:8080/",
          "height": 1788
        }
      },
      "source": [
        "model.fit(x_train, y_train,\n",
        "                    batch_size=batch_size,\n",
        "                    epochs=epochs,\n",
        "                    verbose=1,\n",
        "                    validation_data=(x_test, y_test))"
      ],
      "execution_count": 0,
      "outputs": [
        {
          "output_type": "stream",
          "text": [
            "WARNING:tensorflow:From /usr/local/lib/python3.6/dist-packages/tensorflow/python/ops/math_ops.py:3066: to_int32 (from tensorflow.python.ops.math_ops) is deprecated and will be removed in a future version.\n",
            "Instructions for updating:\n",
            "Use tf.cast instead.\n",
            "Train on 50000 samples, validate on 10000 samples\n",
            "Epoch 1/50\n",
            "50000/50000 [==============================] - 254s 5ms/step - loss: 11.6765 - acc: 0.2378 - val_loss: 12.4499 - val_acc: 0.2056\n",
            "Epoch 2/50\n",
            "50000/50000 [==============================] - 232s 5ms/step - loss: 5.8984 - acc: 0.3242 - val_loss: 10.7627 - val_acc: 0.2002\n",
            "Epoch 3/50\n",
            "50000/50000 [==============================] - 233s 5ms/step - loss: 2.3266 - acc: 0.4774 - val_loss: 2.2493 - val_acc: 0.4199\n",
            "Epoch 4/50\n",
            "50000/50000 [==============================] - 233s 5ms/step - loss: 1.8994 - acc: 0.5393 - val_loss: 3.3840 - val_acc: 0.3643\n",
            "Epoch 5/50\n",
            "50000/50000 [==============================] - 233s 5ms/step - loss: 1.6164 - acc: 0.5931 - val_loss: 3.6200 - val_acc: 0.3418\n",
            "Epoch 6/50\n",
            "50000/50000 [==============================] - 232s 5ms/step - loss: 1.4143 - acc: 0.6289 - val_loss: 1.4980 - val_acc: 0.5832\n",
            "Epoch 7/50\n",
            "49920/50000 [============================>.] - ETA: 0s - loss: 1.2181 - acc: 0.6673Epoch 8/50\n",
            "50000/50000 [==============================] - 232s 5ms/step - loss: 1.0381 - acc: 0.7067 - val_loss: 1.4395 - val_acc: 0.5733\n",
            "Epoch 9/50\n",
            "50000/50000 [==============================] - 232s 5ms/step - loss: 0.9444 - acc: 0.7337 - val_loss: 1.1717 - val_acc: 0.6426\n",
            "Epoch 10/50\n",
            "50000/50000 [==============================] - 232s 5ms/step - loss: 0.8972 - acc: 0.7491 - val_loss: 1.1493 - val_acc: 0.6687\n",
            "Epoch 11/50\n",
            "50000/50000 [==============================] - 233s 5ms/step - loss: 0.8282 - acc: 0.7724 - val_loss: 1.5265 - val_acc: 0.6148\n",
            "Epoch 12/50\n",
            "50000/50000 [==============================] - 233s 5ms/step - loss: 0.8571 - acc: 0.7766 - val_loss: 1.0346 - val_acc: 0.6861\n",
            "Epoch 13/50\n",
            "50000/50000 [==============================] - 232s 5ms/step - loss: 0.7092 - acc: 0.8081 - val_loss: 0.9632 - val_acc: 0.7097\n",
            "Epoch 14/50\n",
            "49920/50000 [============================>.] - ETA: 0s - loss: 0.6134 - acc: 0.8307Epoch 15/50\n",
            "50000/50000 [==============================] - 232s 5ms/step - loss: 0.6333 - acc: 0.8314 - val_loss: 1.3199 - val_acc: 0.6561\n",
            "Epoch 16/50\n",
            "50000/50000 [==============================] - 232s 5ms/step - loss: 0.5125 - acc: 0.8635 - val_loss: 1.2383 - val_acc: 0.6745\n",
            "Epoch 17/50\n",
            "50000/50000 [==============================] - 233s 5ms/step - loss: 0.4533 - acc: 0.8770 - val_loss: 1.0615 - val_acc: 0.7201\n",
            "Epoch 18/50\n",
            "50000/50000 [==============================] - 233s 5ms/step - loss: 0.3902 - acc: 0.8936 - val_loss: 1.3188 - val_acc: 0.7041\n",
            "Epoch 19/50\n",
            "50000/50000 [==============================] - 232s 5ms/step - loss: 0.3109 - acc: 0.9155 - val_loss: 1.2853 - val_acc: 0.7073\n",
            "Epoch 20/50\n",
            "50000/50000 [==============================] - 233s 5ms/step - loss: 0.2664 - acc: 0.9296 - val_loss: 1.3178 - val_acc: 0.7179\n",
            "Epoch 21/50\n",
            "50000/50000 [==============================] - 233s 5ms/step - loss: 0.2316 - acc: 0.9375 - val_loss: 1.3865 - val_acc: 0.7139\n",
            "Epoch 22/50\n",
            "50000/50000 [==============================] - 232s 5ms/step - loss: 0.1913 - acc: 0.9472 - val_loss: 1.4198 - val_acc: 0.7206\n",
            "Epoch 23/50\n",
            "50000/50000 [==============================] - 232s 5ms/step - loss: 0.1796 - acc: 0.9502 - val_loss: 1.8274 - val_acc: 0.6789\n",
            "Epoch 24/50\n",
            "50000/50000 [==============================] - 232s 5ms/step - loss: 0.1549 - acc: 0.9554 - val_loss: 1.5697 - val_acc: 0.7198\n",
            "Epoch 25/50\n",
            "50000/50000 [==============================] - 233s 5ms/step - loss: 0.1373 - acc: 0.9623 - val_loss: 1.6065 - val_acc: 0.7168\n",
            "Epoch 26/50\n",
            "50000/50000 [==============================] - 232s 5ms/step - loss: 0.1168 - acc: 0.9658 - val_loss: 1.7911 - val_acc: 0.7026\n",
            "Epoch 27/50\n",
            "50000/50000 [==============================] - 232s 5ms/step - loss: 0.0927 - acc: 0.9724 - val_loss: 1.7311 - val_acc: 0.7228\n",
            "Epoch 28/50\n",
            "50000/50000 [==============================] - 233s 5ms/step - loss: 0.0929 - acc: 0.9722 - val_loss: 1.8495 - val_acc: 0.7170\n",
            "Epoch 29/50\n",
            "50000/50000 [==============================] - 233s 5ms/step - loss: 0.0731 - acc: 0.9773 - val_loss: 2.1038 - val_acc: 0.6910\n",
            "Epoch 30/50\n",
            "50000/50000 [==============================] - 232s 5ms/step - loss: 0.0616 - acc: 0.9804 - val_loss: 1.8543 - val_acc: 0.7200\n",
            "Epoch 31/50\n",
            "50000/50000 [==============================] - 232s 5ms/step - loss: 0.0641 - acc: 0.9795 - val_loss: 2.1009 - val_acc: 0.6987\n",
            "Epoch 32/50\n",
            "50000/50000 [==============================] - 233s 5ms/step - loss: 0.0526 - acc: 0.9834 - val_loss: 1.9128 - val_acc: 0.7171\n",
            "Epoch 33/50\n",
            "50000/50000 [==============================] - 232s 5ms/step - loss: 0.0502 - acc: 0.9833 - val_loss: 2.0719 - val_acc: 0.7069\n",
            "Epoch 34/50\n",
            "50000/50000 [==============================] - 233s 5ms/step - loss: 0.0622 - acc: 0.9799 - val_loss: 1.8920 - val_acc: 0.7269\n",
            "Epoch 35/50\n",
            "50000/50000 [==============================] - 233s 5ms/step - loss: 0.0484 - acc: 0.9844 - val_loss: 2.1192 - val_acc: 0.7112\n",
            "Epoch 36/50\n",
            "50000/50000 [==============================] - 232s 5ms/step - loss: 0.0413 - acc: 0.9863 - val_loss: 2.0150 - val_acc: 0.7240\n",
            "Epoch 37/50\n",
            "50000/50000 [==============================] - 233s 5ms/step - loss: 0.0530 - acc: 0.9821 - val_loss: 2.0217 - val_acc: 0.7171\n",
            "Epoch 38/50\n",
            "50000/50000 [==============================] - 233s 5ms/step - loss: 0.0419 - acc: 0.9867 - val_loss: 2.0359 - val_acc: 0.7204\n",
            "Epoch 39/50\n",
            "50000/50000 [==============================] - 233s 5ms/step - loss: 0.0353 - acc: 0.9879 - val_loss: 2.2626 - val_acc: 0.6983\n",
            "Epoch 40/50\n",
            "50000/50000 [==============================] - 233s 5ms/step - loss: 0.0334 - acc: 0.9896 - val_loss: 2.0340 - val_acc: 0.7246\n",
            "Epoch 41/50\n",
            "50000/50000 [==============================] - 232s 5ms/step - loss: 0.0348 - acc: 0.9885 - val_loss: 2.0690 - val_acc: 0.7192\n",
            "Epoch 42/50\n",
            "50000/50000 [==============================] - 232s 5ms/step - loss: 0.0415 - acc: 0.9856 - val_loss: 2.2052 - val_acc: 0.7079\n",
            "Epoch 43/50\n",
            "50000/50000 [==============================] - 233s 5ms/step - loss: 0.0392 - acc: 0.9868 - val_loss: 2.0169 - val_acc: 0.7256\n",
            "Epoch 44/50\n",
            "50000/50000 [==============================] - 232s 5ms/step - loss: 0.0325 - acc: 0.9893 - val_loss: 2.0447 - val_acc: 0.7254\n",
            "Epoch 45/50\n",
            "50000/50000 [==============================] - 232s 5ms/step - loss: 0.0305 - acc: 0.9899 - val_loss: 2.3005 - val_acc: 0.7018\n",
            "Epoch 46/50\n",
            "50000/50000 [==============================] - 233s 5ms/step - loss: 0.0224 - acc: 0.9925 - val_loss: 2.0091 - val_acc: 0.7322\n",
            "Epoch 47/50\n",
            "50000/50000 [==============================] - 232s 5ms/step - loss: 0.0353 - acc: 0.9881 - val_loss: 2.1120 - val_acc: 0.7193\n",
            "Epoch 48/50\n",
            "50000/50000 [==============================] - 232s 5ms/step - loss: 0.0401 - acc: 0.9868 - val_loss: 2.2810 - val_acc: 0.7059\n",
            "Epoch 49/50\n",
            "50000/50000 [==============================] - 233s 5ms/step - loss: 0.0296 - acc: 0.9900 - val_loss: 2.0495 - val_acc: 0.7256\n",
            "Epoch 50/50\n",
            "50000/50000 [==============================] - 233s 5ms/step - loss: 0.0244 - acc: 0.9921 - val_loss: 2.3465 - val_acc: 0.7064\n"
          ],
          "name": "stdout"
        },
        {
          "output_type": "execute_result",
          "data": {
            "text/plain": [
              "<keras.callbacks.History at 0x7f80ef842630>"
            ]
          },
          "metadata": {
            "tags": []
          },
          "execution_count": 17
        }
      ]
    },
    {
      "cell_type": "code",
      "metadata": {
        "id": "pTfZIGrf4Uyd",
        "colab_type": "code",
        "outputId": "45d60980-ab17-4332-a267-59842146b2e0",
        "colab": {
          "base_uri": "https://localhost:8080/",
          "height": 85
        }
      },
      "source": [
        "# Test the model\n",
        "score = model.evaluate(x_test, y_test, verbose=1)\n",
        "print('Test loss:', score[0])\n",
        "print('Test accuracy:', score[1])\n",
        "# Save the trained weights in to .h5 format\n",
        "model.save_weights(\"Yolo_Basic_model2.h5\")\n",
        "print(\"Saved the model to disk\")"
      ],
      "execution_count": 0,
      "outputs": [
        {
          "output_type": "stream",
          "text": [
            "10000/10000 [==============================] - 18s 2ms/step\n",
            "Test loss: 2.3465495806694032\n",
            "Test accuracy: 0.7064\n",
            "Saved the model to disk\n"
          ],
          "name": "stdout"
        }
      ]
    },
    {
      "cell_type": "code",
      "metadata": {
        "id": "Jiyb9TlVGsZs",
        "colab_type": "code",
        "outputId": "7ee7ee83-65be-4ad7-9847-0779fa86f1f7",
        "colab": {
          "base_uri": "https://localhost:8080/",
          "height": 333
        }
      },
      "source": [
        "model.save_weights(\"Yolo_Basic_model2.h5\")\n",
        "print(\"Saved the model to disk\")\n",
        "from google.colab import files\n",
        "\n",
        "files.download('Yolo_Basic_model.h5')"
      ],
      "execution_count": 0,
      "outputs": [
        {
          "output_type": "stream",
          "text": [
            "Saved the model to disk\n"
          ],
          "name": "stdout"
        },
        {
          "output_type": "error",
          "ename": "FileNotFoundError",
          "evalue": "ignored",
          "traceback": [
            "\u001b[0;31m---------------------------------------------------------------------------\u001b[0m",
            "\u001b[0;31mFileNotFoundError\u001b[0m                         Traceback (most recent call last)",
            "\u001b[0;32m<ipython-input-19-7fd61af6c08d>\u001b[0m in \u001b[0;36m<module>\u001b[0;34m()\u001b[0m\n\u001b[1;32m      3\u001b[0m \u001b[0;32mfrom\u001b[0m \u001b[0mgoogle\u001b[0m\u001b[0;34m.\u001b[0m\u001b[0mcolab\u001b[0m \u001b[0;32mimport\u001b[0m \u001b[0mfiles\u001b[0m\u001b[0;34m\u001b[0m\u001b[0;34m\u001b[0m\u001b[0m\n\u001b[1;32m      4\u001b[0m \u001b[0;34m\u001b[0m\u001b[0m\n\u001b[0;32m----> 5\u001b[0;31m \u001b[0mfiles\u001b[0m\u001b[0;34m.\u001b[0m\u001b[0mdownload\u001b[0m\u001b[0;34m(\u001b[0m\u001b[0;34m'Yolo_Basic_model.h5'\u001b[0m\u001b[0;34m)\u001b[0m\u001b[0;34m\u001b[0m\u001b[0;34m\u001b[0m\u001b[0m\n\u001b[0m",
            "\u001b[0;32m/usr/local/lib/python3.6/dist-packages/google/colab/files.py\u001b[0m in \u001b[0;36mdownload\u001b[0;34m(filename)\u001b[0m\n\u001b[1;32m    142\u001b[0m       \u001b[0;32mraise\u001b[0m \u001b[0mOSError\u001b[0m\u001b[0;34m(\u001b[0m\u001b[0mmsg\u001b[0m\u001b[0;34m)\u001b[0m\u001b[0;34m\u001b[0m\u001b[0;34m\u001b[0m\u001b[0m\n\u001b[1;32m    143\u001b[0m     \u001b[0;32melse\u001b[0m\u001b[0;34m:\u001b[0m\u001b[0;34m\u001b[0m\u001b[0;34m\u001b[0m\u001b[0m\n\u001b[0;32m--> 144\u001b[0;31m       \u001b[0;32mraise\u001b[0m \u001b[0mFileNotFoundError\u001b[0m\u001b[0;34m(\u001b[0m\u001b[0mmsg\u001b[0m\u001b[0;34m)\u001b[0m  \u001b[0;31m# pylint: disable=undefined-variable\u001b[0m\u001b[0;34m\u001b[0m\u001b[0;34m\u001b[0m\u001b[0m\n\u001b[0m\u001b[1;32m    145\u001b[0m \u001b[0;34m\u001b[0m\u001b[0m\n\u001b[1;32m    146\u001b[0m   \u001b[0mstarted\u001b[0m \u001b[0;34m=\u001b[0m \u001b[0m_threading\u001b[0m\u001b[0;34m.\u001b[0m\u001b[0mEvent\u001b[0m\u001b[0;34m(\u001b[0m\u001b[0;34m)\u001b[0m\u001b[0;34m\u001b[0m\u001b[0;34m\u001b[0m\u001b[0m\n",
            "\u001b[0;31mFileNotFoundError\u001b[0m: Cannot find file: Yolo_Basic_model.h5"
          ]
        }
      ]
    },
    {
      "cell_type": "code",
      "metadata": {
        "id": "g9A3pesKbUJ8",
        "colab_type": "code",
        "colab": {}
      },
      "source": [
        ""
      ],
      "execution_count": 0,
      "outputs": []
    }
  ]
}